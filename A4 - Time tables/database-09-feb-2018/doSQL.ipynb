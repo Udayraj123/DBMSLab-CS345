{
 "cells": [
  {
   "cell_type": "code",
   "execution_count": 170,
   "metadata": {
    "collapsed": true
   },
   "outputs": [],
   "source": [
    "import pandas as pd\n",
    "import numpy as np"
   ]
  },
  {
   "cell_type": "code",
   "execution_count": 180,
   "metadata": {
    "collapsed": false
   },
   "outputs": [
    {
     "name": "stdout",
     "output_type": "stream",
     "text": [
      "SingleSlot Courses- [('CE220', {'B'}), ('CE606', {'B'}), ('CE525', {'B'}), ('CE612', {'B'}), ('CE555', {'B'}), ('ME222', {'B'}), ('ME421', {'B'}), ('EE664', {'C'}), ('EE671', {'C'}), ('CE206', {'C'}), ('CE505', {'C'}), ('CE646', {'C'}), ('CE552', {'C'}), ('CE616', {'C'}), ('PH443', {'C'}), ('ME223', {'C'}), ('CE205', {'D'}), ('CE643', {'D'}), ('CE510', {'D'}), ('ME224', {'D'}), ('EE213M', {'F'}), ('EE322M', {'G'}), ('PH382M', {'G'}), ('ME321M', {'G'}), ('EE648', {'D1'}), ('EE351', {'D1'}), ('EE645', {'D1'}), ('CE595', {'D1'}), ('ME323', {'D1'}), ('EE668', {'C1'}), ('EE340', {'C1'}), ('EE634', {'C1'}), ('CE607', {'C1'}), ('CE664', {'C1'}), ('CE614', {'C1'}), ('ME324', {'C1'}), ('EE667', {'B1'}), ('EE360', {'B1'}), ('EE621', {'B1'}), ('EE653', {'B1'}), ('CE564', {'B1'}), ('CE628', {'B1'}), ('ME322', {'B1'}), ('ME321', {'A1'}), ('CE201', {'A'}), ('CE504', {'A'}), ('HS505', {'A'}), ('ME221', {'A'}), ('EE337', {'A1'}), ('EE385', {'A1'}), ('EE625', {'A1'}), ('CE514', {'A1'}), ('CE556', {'A1'}), ('CE594', {'A1'}), ('CE649', {'E1'}), ('ME325', {'E1'}), ('CE648', {'E'}), ('CE608', {'E'}), ('HS517', {'E'}), ('EE647', {'E1'}), ('EE657', {'E1'}), ('EE632', {'E1'}), ('EE646', {'E1'}), ('PH446', {'E1'}), ('CE402', {'H'})]\n"
     ]
    }
   ],
   "source": [
    "filenames= [\"Mon\",\"Tue\",\"Wed\",\"Thur\",\"Fri\"]\n",
    "\n",
    "csvs={}\n",
    "slotof={}\n",
    "slotdayof={}\n",
    "roomof={}\n",
    "for filename in filenames:\n",
    "    csv = pd.read_csv(\"csvs/\"+filename+\".csv\")\n",
    "    \n",
    "    slots = list(csv.keys())[1:]\n",
    "    for slot in slots:\n",
    "        # For use in making entries -\n",
    "        slotday=filename+\"_\"+slot\n",
    "        for i,row in csv[['Room',slot]].dropna().iterrows():\n",
    "            r = row[0]\n",
    "            c = row[1]\n",
    "            if( c in roomof ):\n",
    "                roomof[c].add(r);\n",
    "            else:\n",
    "                roomof[c]=set([r])\n",
    "            \n",
    "            # Just for listing the multislots\n",
    "            if( c in slotof ):\n",
    "                slotof[c].add(slot);\n",
    "            else:\n",
    "                slotof[c]=set([slot])\n",
    "            \n",
    "            if( c in slotdayof ):\n",
    "#                 if(slotday in slotdayof[c]):  \n",
    "#                     print(\"Duplicate entry, Must have multirooms\",slotday,c)\n",
    "                slotdayof[c].add(slotday);\n",
    "            else:\n",
    "                slotdayof[c]=set([slotday])\n",
    "    csvs[filename]=csv\n",
    "# print(\"MultiSlot Courses-\",[x for x in slotof.items() if(len(x[1]) != 1)])\n",
    "print(\"SingleSlot Courses-\",[x for x in slotof.items() if(len(x[1]) == 1)])\n",
    "# print(\"MultiRoom Courses-\",[x for x in roomof.items() if(len(x[1]) != 1)])"
   ]
  },
  {
   "cell_type": "code",
   "execution_count": 181,
   "metadata": {
    "collapsed": false
   },
   "outputs": [
    {
     "name": "stdout",
     "output_type": "stream",
     "text": [
      "Normal ScheduledIn entries:  860\n",
      "Total ScheduledIn entries:  1494\n"
     ]
    },
    {
     "data": {
      "text/plain": [
       "[['BT101', 'D', 'L2', 'I&III', 'Monday'],\n",
       " ['CH233', 'D', '4103', nan, 'Tuesday'],\n",
       " ['CL207', 'D', '4203', nan, 'Wednesday'],\n",
       " ['CS204', 'D', '1201', nan, 'Thursday'],\n",
       " ['HS237', 'E', '4005', nan, 'Friday'],\n",
       " ['PH304', 'C', '4003', 'NA', 'Tuesday'],\n",
       " ['CE607', 'C1', '3102', 'NA', 'Tuesday'],\n",
       " ['CE304', 'A1', '4211', 'NA', 'Tuesday']]"
      ]
     },
     "execution_count": 181,
     "metadata": {},
     "output_type": "execute_result"
    }
   ],
   "source": [
    "# Course\tClassSlot\tClassroom\tdivision\tDay\n",
    "final = []\n",
    "days={\"Mon\":\"Monday\", \"Tue\":\"Tuesday\", \"Wed\":\"Wednesday\", \"Thur\":\"Thursday\", \"Fri\":\"Friday\" }\n",
    "slotbased = pd.read_csv(\"csvs/Slotbased.csv\")\n",
    "\n",
    "# Normal, fixed slot courses-\n",
    "for k,day in days.items():\n",
    "    for i,csrd in slotbased.iterrows():\n",
    "        final.append(list(csrd)+[day])\n",
    "print(\"Normal ScheduledIn entries: \",len(final))\n",
    "\n",
    "# Variable slot courses- (some are fixed though)\n",
    "for csd in slotdayof.items():\n",
    "    for s in csd[1]:\n",
    "        for r in roomof[csd[0]]: #There are multiRoom courses as well.\n",
    "            sd = s.split(\"_\")\n",
    "            final.append([csd[0],sd[1],r,'NA',days[sd[0]]])\n",
    "\n",
    "print(\"Total ScheduledIn entries: \",len(final))\n",
    "final[0:1630:200]"
   ]
  },
  {
   "cell_type": "code",
   "execution_count": 182,
   "metadata": {
    "collapsed": false
   },
   "outputs": [
    {
     "name": "stdout",
     "output_type": "stream",
     "text": [
      "164\n",
      "164\n"
     ]
    }
   ],
   "source": [
    "#Course entries - comes from slotdayof and slotbased (with division)\n",
    "# course_code, division\n",
    "courses = set()\n",
    "division=\"NA\"\n",
    "for c in slotdayof.items():\n",
    "    courses.add( (c[0],division) )\n",
    "print(len(slotdayof))\n",
    "print(len(courses))\n",
    "\n",
    "for i,csrd in slotbased.iterrows():\n",
    "    c = csrd[0]\n",
    "    d = csrd[3]\n",
    "    if( (c,d) in courses):\n",
    "        print(\"Duplicate!\",c,d)\n",
    "    else:\n",
    "        courses.add((c,d))"
   ]
  },
  {
   "cell_type": "code",
   "execution_count": 155,
   "metadata": {
    "collapsed": false
   },
   "outputs": [],
   "source": [
    "#Slot entries\n",
    "final_slots=[]\n",
    "times=[]\n",
    "slots_all=pd.read_csv(\"csvs/slots.csv\",header=None)\n",
    "for i,r in slots_all.iterrows():\n",
    "    lr= list(r)\n",
    "    if(i<1):\n",
    "        times=lr[1:]\n",
    "    else:\n",
    "        day = lr[0]\n",
    "        for t,l in enumerate(lr[1:]):\n",
    "            if(type(l)==str): #ignore nan\n",
    "                final_slots.append([l,day]+times[t].split(\"-\"))"
   ]
  },
  {
   "cell_type": "code",
   "execution_count": null,
   "metadata": {
    "collapsed": true
   },
   "outputs": [],
   "source": []
  }
 ],
 "metadata": {
  "kernelspec": {
   "display_name": "Python 3",
   "language": "python",
   "name": "python3"
  },
  "language_info": {
   "codemirror_mode": {
    "name": "ipython",
    "version": 3
   },
   "file_extension": ".py",
   "mimetype": "text/x-python",
   "name": "python",
   "nbconvert_exporter": "python",
   "pygments_lexer": "ipython3",
   "version": "3.6.3"
  }
 },
 "nbformat": 4,
 "nbformat_minor": 2
}
