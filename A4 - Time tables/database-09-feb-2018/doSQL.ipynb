{
 "cells": [
  {
   "cell_type": "code",
   "execution_count": 94,
   "metadata": {},
   "outputs": [],
   "source": [
    "import pandas as pd\n",
    "import numpy as np"
   ]
  },
  {
   "cell_type": "code",
   "execution_count": 97,
   "metadata": {},
   "outputs": [
    {
     "name": "stdout",
     "output_type": "stream",
     "text": [
      "Day      1\n",
      "Room    30\n",
      "A       10\n",
      "B       15\n",
      "C       18\n",
      "D       19\n",
      "F       11\n",
      "G        3\n",
      "D1      13\n",
      "C1      12\n",
      "B1      13\n",
      "A1       7\n",
      "dtype: int64\n",
      "Day      1\n",
      "Room    29\n",
      "E        8\n",
      "A       18\n",
      "B       17\n",
      "C       21\n",
      "H        7\n",
      "J        0\n",
      "C1      12\n",
      "B1      14\n",
      "A1      14\n",
      "E1       7\n",
      "dtype: int64\n",
      "Day            1\n",
      "Room          26\n",
      "D             13\n",
      "E             11\n",
      "A             14\n",
      "B             17\n",
      "Unnamed: 6    10\n",
      "Unnamed: 7     2\n",
      "B1            11\n",
      "A1            13\n",
      "E1            15\n",
      "D1             6\n",
      "dtype: int64\n",
      "Day      1\n",
      "Room    26\n",
      "C       12\n",
      "D       13\n",
      "E       10\n",
      "A       13\n",
      "H       11\n",
      "J        0\n",
      "A1      13\n",
      "E1      13\n",
      "D1      13\n",
      "C1       7\n",
      "dtype: int64\n",
      "Day      1\n",
      "Room    30\n",
      "B        5\n",
      "C       16\n",
      "D       14\n",
      "E       11\n",
      "F        9\n",
      "G        3\n",
      "E1       9\n",
      "D1      12\n",
      "C1      13\n",
      "B1       1\n",
      "dtype: int64\n",
      "Course       201\n",
      "ClassSlot    201\n",
      "Classroom    201\n",
      "division      10\n",
      "dtype: int64\n"
     ]
    }
   ],
   "source": [
    "filenames= [\"Mon\",\"Tue\",\"Wed\",\"Thur\",\"Fri\",\"Slotbased\"]\n",
    "for filename in filenames:\n",
    "    csv = pd.read_csv(\"csvs/\"+filename+\".csv\")\n"
   ]
  },
  {
   "cell_type": "code",
   "execution_count": 57,
   "metadata": {},
   "outputs": [],
   "source": []
  },
  {
   "cell_type": "code",
   "execution_count": 92,
   "metadata": {},
   "outputs": [
    {
     "name": "stdout",
     "output_type": "stream",
     "text": [
      "[1, 2, 3]\n",
      "[0]\n",
      "[-1, -2, -3]\n",
      "[1, 2]\n"
     ]
    }
   ],
   "source": []
  },
  {
   "cell_type": "code",
   "execution_count": null,
   "metadata": {},
   "outputs": [],
   "source": []
  },
  {
   "cell_type": "code",
   "execution_count": null,
   "metadata": {},
   "outputs": [],
   "source": []
  }
 ],
 "metadata": {
  "kernelspec": {
   "display_name": "Python 2",
   "language": "python",
   "name": "python2"
  },
  "language_info": {
   "codemirror_mode": {
    "name": "ipython",
    "version": 2
   },
   "file_extension": ".py",
   "mimetype": "text/x-python",
   "name": "python",
   "nbconvert_exporter": "python",
   "pygments_lexer": "ipython2",
   "version": "2.7.14"
  }
 },
 "nbformat": 4,
 "nbformat_minor": 2
}
