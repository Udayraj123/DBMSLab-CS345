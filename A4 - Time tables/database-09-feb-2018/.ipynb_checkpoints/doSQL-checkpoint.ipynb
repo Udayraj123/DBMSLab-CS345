{
 "cells": [
  {
   "cell_type": "code",
   "execution_count": 1,
   "metadata": {
    "collapsed": true
   },
   "outputs": [],
   "source": [
    "import pandas as pd\n",
    "import numpy as np\n",
    "# Departments entries - department_id, name\n",
    "depts = {\n",
    "'CS': \"Department of Computer Science and Engineering\",\n",
    "'EE': \"Department of Electronics and Electrical Engineering\" ,\n",
    "'ME': \"Department Of Mechanical Engineering\" ,\n",
    "'CE': \"Department of Civil Engineering\" ,\n",
    "'DD': \"Department of Design\" ,\n",
    "'BT': \"Department Of Biosciences and Bioengineering\",\n",
    "'CL': \"Department Of Chemical Engineering\" ,\n",
    "'PH': \"Department Of Physics\" ,\n",
    "'CH': \"Department Of Chemical Sciences and Technology\" ,\n",
    "'MA': \"Department Of Mathematics and Computing\" ,\n",
    "'HS': \"Department Of Humanities and Social Sciences\" ,\n",
    "'RT' : \"Centre for Rural Technology\",\n",
    "'EN' : \"Center for Energy\",\n",
    "'LS' : \"Centre for Linguistic Science and Technology\"\n",
    "}\n",
    "\n",
    "with open(\"150101021_depts.sql\",\"w\") as f:\n",
    "    for d,dname in depts.items():\n",
    "        f.write(\"INSERT into Department (department_id,name) values ('\"+d+\"','\"+dname+\"');\\n\")\n",
    "\n",
    "# Slot entries\n",
    "final_slots=[]\n",
    "times=[]\n",
    "slots_all=pd.read_csv(\"csvs/slots.csv\",header=None)\n",
    "for i,r in slots_all.iterrows():\n",
    "    lr= list(r)\n",
    "    if(i<1):\n",
    "        times=lr[1:]\n",
    "    else:\n",
    "        day = lr[0]\n",
    "        for t,l in enumerate(lr[1:]):\n",
    "            if(type(l)==str): #ignore nan\n",
    "                final_slots.append([l,day]+times[t].split(\"-\"))\n",
    "len(final_slots)\n",
    "with open(\"150101021_slots.sql\",\"w\") as f:\n",
    "    for s in final_slots:\n",
    "        vals=\",\".join(map(lambda x:(\"'\"+str(x)+\"'\"),s));\n",
    "        f.write(\"INSERT into Slot (letter,day,start_time,end_time) values (\" + vals+\");\\n\")"
   ]
  },
  {
   "cell_type": "code",
   "execution_count": 2,
   "metadata": {
    "collapsed": false
   },
   "outputs": [
    {
     "name": "stdout",
     "output_type": "stream",
     "text": [
      "MultiRoom Courses- [('EE230', {'4101', '2202', '3101', '2201', '2002'}), ('EE221', {'4101', '2202', '3101', '2201', '2002'}), ('ME222', {'1005', '1003'}), ('CE646', {'4211', '4208', '4205'}), ('CE584', {'4211', '4205'}), ('ME223', {'1005', '1003'}), ('EE663', {'3101', '2002'}), ('EE652', {'4101', '2202'}), ('ME224', {'1005', '1003'}), ('CE307', {'3102', '4201'}), ('CE570', {'4208', '4205'}), ('CE615', {'4211', '4205'}), ('CE623', {'4208', '3102'}), ('PH412', {'4212', '4004'}), ('ME323', {'1005', '1003'}), ('ME324', {'1005', '1003'}), ('ME322', {'1005', '1003'}), ('ME321', {'1005', '1003'}), ('EE551', {'4101', '2202'}), ('ME221', {'1005', '1003'}), ('ME605', {'1G2', '1005'}), ('PH521', {'4212', '4004'}), ('PH531', {'4212', '4004'}), ('CE304', {'4211', '4201'}), ('PH544', {'4212', '4004'}), ('PH545', {'4212', '4004'}), ('ME325', {'1005', '1003'})]\n"
     ]
    }
   ],
   "source": [
    "#Process these 5 files -\n",
    "filenames= [\"Mon\",\"Tue\",\"Wed\",\"Thur\",\"Fri\"]\n",
    "slotof={}\n",
    "roomof={}\n",
    "slotdayof={}\n",
    "rooms_all = set()\n",
    "for filename in filenames:\n",
    "    csv = pd.read_csv(\"csvs/\"+filename+\".csv\")\n",
    "    \n",
    "    slots = list(csv.keys())[1:]\n",
    "    for slot in slots:\n",
    "        # For use in making entries -\n",
    "        slotday=filename+\"_\"+slot\n",
    "        for i,row in csv[['Room',slot]].dropna().iterrows():\n",
    "            c = row[1]\n",
    "            if( c in slotdayof ):\n",
    "                slotdayof[c].add(slotday);\n",
    "#                 if(slotday in slotdayof[c]):  \n",
    "#                     print(\"Duplicate entry, Must have multirooms\",slotday,c)\n",
    "            else:\n",
    "                slotdayof[c]=set([slotday])\n",
    "            \n",
    "            r = row[0]\n",
    "            rooms_all.add(r) # distinct rooms\n",
    "            if( c in roomof ):\n",
    "                roomof[c].add(r);\n",
    "            else:\n",
    "                roomof[c]=set([r])\n",
    "            # Just for listing the multislots\n",
    "#             if( c in slotof ):\n",
    "#                 slotof[c].add(slot);\n",
    "#             else:\n",
    "#                 slotof[c]=set([slot])\n",
    "            \n",
    "# print(\"MultiSlot Courses-\",[x for x in slotof.items() if(len(x[1]) != 1)])\n",
    "# print(\"SingleSlots in variableSlot Courses-\",[x for x in slotof.items() if(len(x[1]) == 1)])\n",
    "print(\"MultiRoom Courses-\",[x for x in roomof.items() if(len(x[1]) != 1)])"
   ]
  },
  {
   "cell_type": "code",
   "execution_count": 3,
   "metadata": {
    "collapsed": false
   },
   "outputs": [
    {
     "name": "stdout",
     "output_type": "stream",
     "text": [
      "Normal ScheduledIn entries:  648\n",
      "Total ScheduledIn entries:  1282\n"
     ]
    },
    {
     "data": {
      "text/plain": [
       "[['BT101', 'D', 'L2', 'I', 'Monday'],\n",
       " ['CH643', 'C', '4005', 'NA', 'Thursday'],\n",
       " ['HS220', 'E', '1207', 'NA', 'Friday'],\n",
       " ['MA691', 'E1', '1104', 'NA', 'Wednesday'],\n",
       " ['PH706', 'D1', '4004', 'NA', 'Thursday'],\n",
       " ['PH702', 'A1', '4004', 'NA', 'Wednesday'],\n",
       " ['PH544', 'D1', '4212', 'NA', 'Friday']]"
      ]
     },
     "execution_count": 3,
     "metadata": {},
     "output_type": "execute_result"
    }
   ],
   "source": [
    "# Course\tClassSlot\tClassroom\tdivision\tDay   Department\n",
    "final = []\n",
    "days={\"Mon\":\"Monday\", \"Tue\":\"Tuesday\", \"Wed\":\"Wednesday\", \"Thur\":\"Thursday\", \"Fri\":\"Friday\" }\n",
    "slotbased = pd.read_csv(\"csvs/Slotbased.csv\")\n",
    "\n",
    "exceptions={\n",
    "\"Tue_E\": ['HS203', 'HS212', 'HS213', 'HS220', 'HS224', 'HS226', 'HS234', 'HS237', 'HS238', 'HS239', 'HS242', 'HS243'],\n",
    "\"Mon_A\": ['HS406', 'HS409', 'HS413', 'HS414', 'HS415', 'HS420', 'HS421', 'HS422', 'HS424', 'HS425'],\n",
    "\"Tue_E1\": ['EE657','CL625','PH446','CH419'],\n",
    "\"Thu_C\": ['BT630', 'BT632', 'CE552', 'CE616', 'CH438', 'CL639', 'CS526', 'EE664', 'EE671', 'EN671', 'LS621', 'ME609', 'PH443']\n",
    "}\n",
    "\n",
    "# Normal, fixed slot courses-\n",
    "for i,csrd in slotbased.iterrows():\n",
    "    course = csrd[0]\n",
    "    slot = csrd[1]\n",
    "    rooms_all.add(csrd[2])\n",
    "    slot_days = [ f[1] for f in final_slots if f[0]==slot ] #only those days which have the slot\n",
    "    for day in slot_days:\n",
    "        checkstr = day[:3]+\"_\"+slot\n",
    "        if (not (checkstr in exceptions and course in exceptions[checkstr] ) ):\n",
    "            division = csrd[3]\n",
    "            if(type(division) != str):\n",
    "                division = \"NA\"\n",
    "            final.append(list(csrd)[:3]+[division,day])\n",
    "#         else:\n",
    "#             print(\"Excluded \"+checkstr+\" for course \"+course)\n",
    "print(\"Normal ScheduledIn entries: \",len(final))\n",
    "\n",
    "# Variable slot courses- (some are fixed though)\n",
    "for csd in slotdayof.items():\n",
    "    for s in csd[1]:\n",
    "        for r in roomof[csd[0]]: #There are multiRoom courses as well.\n",
    "            sd = s.split(\"_\")\n",
    "            final.append([csd[0],sd[1],r,'NA',days[sd[0]]])\n",
    "\n",
    "print(\"Total ScheduledIn entries: \",len(final))\n",
    "with open(\"150101021_sched.sql\",\"w\") as f:\n",
    "    for rel in final:\n",
    "        c,l,r,dv,dy = rel\n",
    "        did = c[:2]\n",
    "        f.write(\"INSERT INTO ScheduledIn (course_code, course_division, slot_letter, slot_day, department_id, room_number)  VALUES ('\"+\n",
    "                c+\"','\"+dv+\"','\"+l+\"','\"+dy+\"','\"+did+\"','\"+r+\"');\\n\")\n",
    "final[0:1230:200]"
   ]
  },
  {
   "cell_type": "code",
   "execution_count": 4,
   "metadata": {
    "collapsed": false
   },
   "outputs": [
    {
     "name": "stdout",
     "output_type": "stream",
     "text": [
      "Total rooms  55\n",
      "Weekfiles courses 164\n",
      "Total courses 338\n"
     ]
    }
   ],
   "source": [
    "# Room entries - room_number, location\n",
    "print(\"Total rooms \",len(rooms_all))\n",
    "locations = ['Core-I', 'Core-II', 'Core-III', 'Core-IV', 'LH', 'Local']\n",
    "with open(\"150101021_rooms.sql\",\"w\") as f:\n",
    "    for r in rooms_all:\n",
    "        l = locations[int(r[0])-1] if r[0] in \"1234\" else ('LH' if r[0]=='L' else 'Local')\n",
    "        f.write(\"INSERT into Room (room_number,location) values ('\"+r+\"','\"+l+\"');\\n\")\n",
    "        \n",
    "#Course entries - course_code, division. Comes from slotdayof and slotbased (with division) \n",
    "courses = set()\n",
    "division=\"NA\"\n",
    "# filenames one -\n",
    "for c in slotdayof.items():    \n",
    "    courses.add( (c[0],division) )\n",
    "print(\"Weekfiles courses\",len(courses))\n",
    "          \n",
    "for i,csrd in slotbased.iterrows():\n",
    "    c = csrd[0]\n",
    "    d = csrd[3]\n",
    "    if(type(d) != str):\n",
    "        d = \"NA\"\n",
    "    if( (c,d) in courses):\n",
    "        print(\"Duplicate!\",c,d)\n",
    "    else:\n",
    "        courses.add((c,d))\n",
    "print(\"Total courses\",len(courses))\n",
    "with open(\"150101021_courses.sql\",\"w\") as f:\n",
    "    for c,d in courses:\n",
    "        f.write(\"INSERT into Course (course_code,division) values ('\"+c+\"','\"+d+\"');\\n\")\n"
   ]
  },
  {
   "cell_type": "code",
   "execution_count": 5,
   "metadata": {
    "collapsed": false
   },
   "outputs": [
    {
     "name": "stdout",
     "output_type": "stream",
     "text": [
      "Dept present bugcheck [] == []\n",
      "CE552 bugcheck 3 == 3\n",
      "CE616 bugcheck 3 == 3\n",
      "EE657 bugcheck 3 == 3\n",
      "EE664 bugcheck 3 == 3\n",
      "EE671 bugcheck 3 == 3\n",
      "PH443 bugcheck 3 == 3\n",
      "PH446 bugcheck 3 == 3\n",
      "LS621 bugcheck 3 == 3\n",
      " xxxx bugcheck 6 == 6\n"
     ]
    }
   ],
   "source": [
    "#checks for integrity \n",
    "#All courses link to a dept -\n",
    "print(\"Dept present bugcheck [] ==\",[f for f  in final if f[0][:2] not in depts])\n",
    "# \"Other than Tuesday\" cases - \n",
    "for c in ['CE552','CE616','EE657','EE664','EE671','PH443','PH446']:\n",
    "    print(c,\"bugcheck 3 ==\",len([f for f  in final if f[0]==c]))\n",
    "# Elective rooms - Not mentioned for LS621\n",
    "print(\"LS621 bugcheck 3 ==\",len([f for f  in final if f[2] == 'Elective_xxxx']))\n",
    "# CommonRoom xxxx\n",
    "print(\" xxxx bugcheck 6 ==\" , len([f for f  in final if f[2] == 'xxxx' or f[2] == 'CommonRoom']))"
   ]
  },
  {
   "cell_type": "code",
   "execution_count": 10,
   "metadata": {
    "collapsed": false
   },
   "outputs": [
    {
     "name": "stdout",
     "output_type": "stream",
     "text": [
      "ScheduledIn entries  1282\n"
     ]
    }
   ],
   "source": []
  },
  {
   "cell_type": "code",
   "execution_count": null,
   "metadata": {
    "collapsed": true
   },
   "outputs": [],
   "source": []
  }
 ],
 "metadata": {
  "kernelspec": {
   "display_name": "Python 3",
   "language": "python",
   "name": "python3"
  },
  "language_info": {
   "codemirror_mode": {
    "name": "ipython",
    "version": 3
   },
   "file_extension": ".py",
   "mimetype": "text/x-python",
   "name": "python",
   "nbconvert_exporter": "python",
   "pygments_lexer": "ipython3",
   "version": "3.6.3"
  }
 },
 "nbformat": 4,
 "nbformat_minor": 2
}
