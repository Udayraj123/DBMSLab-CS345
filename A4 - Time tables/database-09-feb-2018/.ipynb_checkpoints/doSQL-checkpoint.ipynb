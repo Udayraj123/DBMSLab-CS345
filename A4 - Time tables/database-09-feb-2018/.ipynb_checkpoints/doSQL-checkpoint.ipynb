{
 "cells": [
  {
   "cell_type": "code",
   "execution_count": 306,
   "metadata": {
    "collapsed": false
   },
   "outputs": [
    {
     "name": "stdout",
     "output_type": "stream",
     "text": [
      "MultiRoom Courses- [('EE230', {'4101', '3101', '2002', '2202', '2201'}), ('EE221', {'4101', '3101', '2002', '2202', '2201'}), ('ME222', {'1003', '1005'}), ('CE646', {'4211', '4205', '4208'}), ('CE584', {'4205', '4211'}), ('ME223', {'1003', '1005'}), ('EE663', {'2002', '3101'}), ('EE652', {'4101', '2202'}), ('ME224', {'1003', '1005'}), ('CE307', {'4201', '3102'}), ('CE570', {'4205', '4208'}), ('CE615', {'4205', '4211'}), ('CE623', {'3102', '4208'}), ('PH412', {'4004', '4212'}), ('ME323', {'1003', '1005'}), ('ME324', {'1003', '1005'}), ('ME322', {'1003', '1005'}), ('ME321', {'1003', '1005'}), ('EE551', {'4101', '2202'}), ('ME221', {'1003', '1005'}), ('ME605', {'1G2', '1005'}), ('PH521', {'4004', '4212'}), ('PH531', {'4004', '4212'}), ('CE304', {'4201', '4211'}), ('PH544', {'4004', '4212'}), ('PH545', {'4004', '4212'}), ('ME325', {'1003', '1005'})]\n"
     ]
    }
   ],
   "source": [
    "import pandas as pd\n",
    "import numpy as np\n",
    "filenames= [\"Mon\",\"Tue\",\"Wed\",\"Thur\",\"Fri\"]\n",
    "slotof={}\n",
    "roomof={}\n",
    "slotdayof={}\n",
    "rooms_all = set()\n",
    "for filename in filenames:\n",
    "    csv = pd.read_csv(\"csvs/\"+filename+\".csv\")\n",
    "    \n",
    "    slots = list(csv.keys())[1:]\n",
    "    for slot in slots:\n",
    "        # For use in making entries -\n",
    "        slotday=filename+\"_\"+slot\n",
    "        for i,row in csv[['Room',slot]].dropna().iterrows():\n",
    "            c = row[1]\n",
    "            if( c in slotdayof ):\n",
    "                slotdayof[c].add(slotday);\n",
    "#                 if(slotday in slotdayof[c]):  \n",
    "#                     print(\"Duplicate entry, Must have multirooms\",slotday,c)\n",
    "            else:\n",
    "                slotdayof[c]=set([slotday])\n",
    "            \n",
    "            r = row[0]\n",
    "            rooms_all.add(r) # distinct rooms\n",
    "            if( c in roomof ):\n",
    "                roomof[c].add(r);\n",
    "            else:\n",
    "                roomof[c]=set([r])\n",
    "            # Just for listing the multislots\n",
    "#             if( c in slotof ):\n",
    "#                 slotof[c].add(slot);\n",
    "#             else:\n",
    "#                 slotof[c]=set([slot])\n",
    "            \n",
    "# print(\"MultiSlot Courses-\",[x for x in slotof.items() if(len(x[1]) != 1)])\n",
    "# print(\"SingleSlots in variableSlot Courses-\",[x for x in slotof.items() if(len(x[1]) == 1)])\n",
    "print(\"MultiRoom Courses-\",[x for x in roomof.items() if(len(x[1]) != 1)])"
   ]
  },
  {
   "cell_type": "code",
   "execution_count": 309,
   "metadata": {
    "collapsed": false
   },
   "outputs": [
    {
     "name": "stdout",
     "output_type": "stream",
     "text": [
      "164\n",
      "328\n"
     ]
    }
   ],
   "source": [
    "#Course entries - comes from slotdayof and slotbased (with division)\n",
    "# course_code, division\n",
    "courses = set()\n",
    "division=\"NA\"\n",
    "# filenames one -\n",
    "for c in slotdayof.items():    \n",
    "    courses.add( (c[0],division) )\n",
    "print(len(courses))\n",
    "          \n",
    "for i,csrd in slotbased.iterrows():\n",
    "    c = csrd[0]\n",
    "    d = csrd[3]\n",
    "    if(type(d) != str):\n",
    "        d = \"NA\"\n",
    "    if( (c,d) in courses):\n",
    "        print(\"Duplicate!\",c,d)\n",
    "    else:\n",
    "        courses.add((c,d))\n",
    "        \n",
    "print(len(courses))\n",
    "with open(\"150101021_courses.sql\",\"w\") as f:\n",
    "    for c,ds in courses:\n",
    "        for d in ds.split(\"&\"):\n",
    "            f.write(\"INSERT into Course (course_code,division) values ('\"+c+\"','\"+d+\"');\\n\")\n"
   ]
  },
  {
   "cell_type": "code",
   "execution_count": 313,
   "metadata": {
    "collapsed": false
   },
   "outputs": [],
   "source": [
    "#Slot entries\n",
    "final_slots=[]\n",
    "times=[]\n",
    "slots_all=pd.read_csv(\"csvs/slots.csv\",header=None)\n",
    "for i,r in slots_all.iterrows():\n",
    "    lr= list(r)\n",
    "    if(i<1):\n",
    "        times=lr[1:]\n",
    "    else:\n",
    "        day = lr[0]\n",
    "        for t,l in enumerate(lr[1:]):\n",
    "            if(type(l)==str): #ignore nan\n",
    "                final_slots.append([l,day]+times[t].split(\"-\"))\n",
    "len(final_slots)\n",
    "with open(\"150101021_slots.sql\",\"w\") as f:\n",
    "    for s in final_slots:\n",
    "        f.write(\"INSERT into Course (letter,day,start_time,end_time) values (\" + \",\".join(map(lambda x:(\"'\"+str(x)+\"'\"),s))+\");\\n\")"
   ]
  },
  {
   "cell_type": "code",
   "execution_count": 303,
   "metadata": {
    "collapsed": false
   },
   "outputs": [
    {
     "name": "stdout",
     "output_type": "stream",
     "text": [
      "INSERT into Department (department_id,name) values ('CS','Department of Computer Science and Engineering');\n",
      "INSERT into Department (department_id,name) values ('EE','Department of Electronics and Electrical Engineering');\n",
      "INSERT into Department (department_id,name) values ('ME','Department Of Mechanical Engineering');\n",
      "INSERT into Department (department_id,name) values ('CE','Department of Civil Engineering');\n",
      "INSERT into Department (department_id,name) values ('DD','Department of Design');\n",
      "INSERT into Department (department_id,name) values ('BT','Department Of Biosciences and Bioengineering');\n",
      "INSERT into Department (department_id,name) values ('CL','Department Of Chemical Engineering');\n",
      "INSERT into Department (department_id,name) values ('PH','Department Of Physics');\n",
      "INSERT into Department (department_id,name) values ('CH','Department Of Chemical Sciences and Technology');\n",
      "INSERT into Department (department_id,name) values ('MA','Department Of Mathematics and Computing');\n",
      "INSERT into Department (department_id,name) values ('HS','Department Of Humanities and Social Sciences');\n",
      "INSERT into Department (department_id,name) values ('RT','Centre for Rural Technology');\n",
      "INSERT into Department (department_id,name) values ('EN','Center for Energy');\n",
      "INSERT into Department (department_id,name) values ('LS','Centre for Linguistic Science and Technology');\n"
     ]
    }
   ],
   "source": [
    "# Departments - department_id, name\n",
    "depts = {\n",
    "'CS': \"Department of Computer Science and Engineering\",\n",
    "'EE': \"Department of Electronics and Electrical Engineering\" ,\n",
    "'ME': \"Department Of Mechanical Engineering\" ,\n",
    "'CE': \"Department of Civil Engineering\" ,\n",
    "'DD': \"Department of Design\" ,\n",
    "'BT': \"Department Of Biosciences and Bioengineering\",\n",
    "'CL': \"Department Of Chemical Engineering\" ,\n",
    "'PH': \"Department Of Physics\" ,\n",
    "'CH': \"Department Of Chemical Sciences and Technology\" ,\n",
    "'MA': \"Department Of Mathematics and Computing\" ,\n",
    "'HS': \"Department Of Humanities and Social Sciences\" ,\n",
    "'RT' : \"Centre for Rural Technology\",\n",
    "'EN' : \"Center for Energy\",\n",
    "'LS' : \"Centre for Linguistic Science and Technology\"\n",
    "}\n",
    "\n",
    "with open(\"150101021_depts.sql\",\"w\") as f:\n",
    "    for d,dname in depts.items():\n",
    "        f.write(\"INSERT into Department (department_id,name) values ('\"+d+\"','\"+dname+\"');\\n\")\n"
   ]
  },
  {
   "cell_type": "code",
   "execution_count": 297,
   "metadata": {
    "collapsed": false
   },
   "outputs": [
    {
     "name": "stdout",
     "output_type": "stream",
     "text": [
      "Normal ScheduledIn entries:  606\n",
      "Total ScheduledIn entries:  1240\n"
     ]
    },
    {
     "data": {
      "text/plain": [
       "[['BT101', 'D', 'L2', 'I&III', 'Monday'],\n",
       " ['CL205', 'B', '4102', 'NA', 'Wednesday'],\n",
       " ['HS239', 'E', '4G4', 'NA', 'Wednesday'],\n",
       " ['PH102', 'E', 'L2', 'I&III', 'Friday'],\n",
       " ['HS604', 'D', '1101', 'NA', 'Monday'],\n",
       " ['ME322', 'B1', '1005', 'NA', 'Monday'],\n",
       " ['ME680', 'F', '1005', 'NA', 'Friday']]"
      ]
     },
     "execution_count": 297,
     "metadata": {},
     "output_type": "execute_result"
    }
   ],
   "source": [
    "# Course\tClassSlot\tClassroom\tdivision\tDay   Department\n",
    "final = []\n",
    "days={\"Mon\":\"Monday\", \"Tue\":\"Tuesday\", \"Wed\":\"Wednesday\", \"Thur\":\"Thursday\", \"Fri\":\"Friday\" }\n",
    "slotbased = pd.read_csv(\"csvs/Slotbased.csv\")\n",
    "\n",
    "exceptions={\n",
    "\"Tue_E\": ['HS203', 'HS212', 'HS213', 'HS220', 'HS224', 'HS226', 'HS234', 'HS237', 'HS238', 'HS239', 'HS242', 'HS243'],\n",
    "\"Mon_A\": ['HS406', 'HS409', 'HS413', 'HS414', 'HS415', 'HS420', 'HS421', 'HS422', 'HS424', 'HS425'],\n",
    "\"Tue_E1\": ['EE657','CL625','PH446','CH419'],\n",
    "\"Thu_C\": ['BT630', 'BT632', 'CE552', 'CE616', 'CH438', 'CL639', 'CS526', 'EE664', 'EE671', 'EN671', 'LS621', 'ME609', 'PH443']\n",
    "}\n",
    "\n",
    "# Normal, fixed slot courses-\n",
    "for i,csrd in slotbased.iterrows():\n",
    "    course = csrd[0]\n",
    "    slot = csrd[1]\n",
    "    rooms_all.add(csrd[2])\n",
    "    slot_days = [ f[1] for f in final_slots if f[0]==slot ] #only those days which have the slot\n",
    "    for day in slot_days:\n",
    "        checkstr = day[:3]+\"_\"+slot\n",
    "        if (not (checkstr in exceptions and course in exceptions[checkstr] ) ):\n",
    "            division = csrd[3]\n",
    "            if(type(division) != str):\n",
    "                division = \"NA\"\n",
    "            final.append(list(csrd)[:3]+[division,day])\n",
    "#         else:\n",
    "#             print(\"Excluded \"+checkstr+\" for course \"+course)\n",
    "print(\"Normal ScheduledIn entries: \",len(final))\n",
    "\n",
    "# Variable slot courses- (some are fixed though)\n",
    "for csd in slotdayof.items():\n",
    "    for s in csd[1]:\n",
    "        for r in roomof[csd[0]]: #There are multiRoom courses as well.\n",
    "            sd = s.split(\"_\")\n",
    "            final.append([csd[0],sd[1],r,'NA',days[sd[0]]])\n",
    "\n",
    "print(\"Total ScheduledIn entries: \",len(final))\n",
    "\n",
    "#for dept_id use course[:2]\n",
    "final[0:1230:200]"
   ]
  },
  {
   "cell_type": "code",
   "execution_count": 299,
   "metadata": {
    "collapsed": false
   },
   "outputs": [
    {
     "name": "stdout",
     "output_type": "stream",
     "text": [
      "[] == []\n",
      "CE552 bugcheck 3 == 3\n",
      "CE616 bugcheck 3 == 3\n",
      "EE657 bugcheck 3 == 3\n",
      "EE664 bugcheck 3 == 3\n",
      "EE671 bugcheck 3 == 3\n",
      "PH443 bugcheck 3 == 3\n",
      "PH446 bugcheck 3 == 3\n",
      "LS621 bugcheck 3 == 3\n",
      " xxxx bugcheck 6 == 6\n"
     ]
    }
   ],
   "source": [
    "#checks for integrity \n",
    "#All courses link to a dept -\n",
    "print(\"[] ==\",[f for f  in final if f[0][:2] not in depts])\n",
    "# \"Other than Tuesday\" cases - \n",
    "for c in ['CE552','CE616','EE657','EE664','EE671','PH443','PH446']:\n",
    "    print(c,\"bugcheck 3 ==\",len([f for f  in final if f[0]==c]))\n",
    "# Elective rooms - Not mentioned for LS621\n",
    "print(\"LS621 bugcheck 3 ==\",len([f for f  in final if f[2] == 'Elective_xxxx']))\n",
    "# CommonRoom xxxx\n",
    "print(\" xxxx bugcheck 6 ==\" , len([f for f  in final if f[2] == 'xxxx' or f[2] == 'CommonRoom']))"
   ]
  },
  {
   "cell_type": "code",
   "execution_count": 302,
   "metadata": {
    "collapsed": false
   },
   "outputs": [
    {
     "name": "stdout",
     "output_type": "stream",
     "text": [
      "INSERT into Room (room_number,location) values ('2001','Core-II');\n",
      "INSERT into Room (room_number,location) values ('1004','Core-I');\n",
      "INSERT into Room (room_number,location) values ('4101','Core-IV');\n",
      "INSERT into Room (room_number,location) values ('1003','Core-I');\n",
      "INSERT into Room (room_number,location) values ('2102','Core-II');\n",
      "INSERT into Room (room_number,location) values ('xxxx','Local');\n",
      "INSERT into Room (room_number,location) values ('4002','Core-IV');\n",
      "INSERT into Room (room_number,location) values ('2204','Core-II');\n",
      "INSERT into Room (room_number,location) values ('4201','Core-IV');\n",
      "INSERT into Room (room_number,location) values ('4205','Core-IV');\n",
      "INSERT into Room (room_number,location) values ('1102','Core-I');\n",
      "INSERT into Room (room_number,location) values ('2203','Core-II');\n",
      "INSERT into Room (room_number,location) values ('L1','LH');\n",
      "INSERT into Room (room_number,location) values ('1006','Core-I');\n",
      "INSERT into Room (room_number,location) values ('4203','Core-IV');\n",
      "INSERT into Room (room_number,location) values ('4207','Core-IV');\n",
      "INSERT into Room (room_number,location) values ('4211','Core-IV');\n",
      "INSERT into Room (room_number,location) values ('1201','Core-I');\n",
      "INSERT into Room (room_number,location) values ('L2','LH');\n",
      "INSERT into Room (room_number,location) values ('2202','Core-II');\n",
      "INSERT into Room (room_number,location) values ('4208','Core-IV');\n",
      "INSERT into Room (room_number,location) values ('1G2','Core-I');\n",
      "INSERT into Room (room_number,location) values ('4212','Core-IV');\n",
      "INSERT into Room (room_number,location) values ('1101','Core-I');\n",
      "INSERT into Room (room_number,location) values ('1103','Core-I');\n",
      "INSERT into Room (room_number,location) values ('1104','Core-I');\n",
      "INSERT into Room (room_number,location) values ('4006','Core-IV');\n",
      "INSERT into Room (room_number,location) values ('4210','Core-IV');\n",
      "INSERT into Room (room_number,location) values ('4004','Core-IV');\n",
      "INSERT into Room (room_number,location) values ('1002','Core-I');\n",
      "INSERT into Room (room_number,location) values ('3202','Core-III');\n",
      "INSERT into Room (room_number,location) values ('1206','Core-I');\n",
      "INSERT into Room (room_number,location) values ('L3','LH');\n",
      "INSERT into Room (room_number,location) values ('L4','LH');\n",
      "INSERT into Room (room_number,location) values ('4001','Core-IV');\n",
      "INSERT into Room (room_number,location) values ('1G1','Core-I');\n",
      "INSERT into Room (room_number,location) values ('2101','Core-II');\n",
      "INSERT into Room (room_number,location) values ('4G3','Core-IV');\n",
      "INSERT into Room (room_number,location) values ('1207','Core-I');\n",
      "INSERT into Room (room_number,location) values ('4103','Core-IV');\n",
      "INSERT into Room (room_number,location) values ('4104','Core-IV');\n",
      "INSERT into Room (room_number,location) values ('4G4','Core-IV');\n",
      "INSERT into Room (room_number,location) values ('4005','Core-IV');\n",
      "INSERT into Room (room_number,location) values ('4209','Core-IV');\n",
      "INSERT into Room (room_number,location) values ('4102','Core-IV');\n",
      "INSERT into Room (room_number,location) values ('3102','Core-III');\n",
      "INSERT into Room (room_number,location) values ('3003','Core-III');\n",
      "INSERT into Room (room_number,location) values ('Elective_xxxx','Local');\n",
      "INSERT into Room (room_number,location) values ('3101','Core-III');\n",
      "INSERT into Room (room_number,location) values ('2002','Core-II');\n",
      "INSERT into Room (room_number,location) values ('1203','Core-I');\n",
      "INSERT into Room (room_number,location) values ('1005','Core-I');\n",
      "INSERT into Room (room_number,location) values ('4003','Core-IV');\n",
      "INSERT into Room (room_number,location) values ('4206','Core-IV');\n",
      "INSERT into Room (room_number,location) values ('2201','Core-II');\n"
     ]
    }
   ],
   "source": [
    "# Room entries - room_number, location\n",
    "locations = ['Core-I', 'Core-II', 'Core-III', 'Core-IV', 'LH', 'Local']\n",
    "for r in rooms_all:\n",
    "    l = locations[int(r[0])-1] if r[0] in \"1234\" else ('LH' if r[0]=='L' else 'Local')\n",
    "    print(\"INSERT into Room (room_number,location) values ('\"+r+\"','\"+l+\"');\")"
   ]
  },
  {
   "cell_type": "code",
   "execution_count": null,
   "metadata": {
    "collapsed": true
   },
   "outputs": [],
   "source": []
  }
 ],
 "metadata": {
  "kernelspec": {
   "display_name": "Python 3",
   "language": "python",
   "name": "python3"
  },
  "language_info": {
   "codemirror_mode": {
    "name": "ipython",
    "version": 3
   },
   "file_extension": ".py",
   "mimetype": "text/x-python",
   "name": "python",
   "nbconvert_exporter": "python",
   "pygments_lexer": "ipython3",
   "version": "3.6.3"
  }
 },
 "nbformat": 4,
 "nbformat_minor": 2
}
