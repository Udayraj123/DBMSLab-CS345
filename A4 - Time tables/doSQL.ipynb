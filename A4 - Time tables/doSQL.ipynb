{
 "cells": [
  {
   "cell_type": "code",
   "execution_count": 9,
   "metadata": {
    "collapsed": false
   },
   "outputs": [],
   "source": [
    "import pandas as pd\n",
    "import numpy as np\n",
    "# Departments entries - department_id, name\n",
    "depts = {\n",
    "'CS': \"Department of Computer Science and Engineering\",\n",
    "'EE': \"Department of Electronics and Electrical Engineering\" ,\n",
    "'ME': \"Department Of Mechanical Engineering\" ,\n",
    "'CE': \"Department of Civil Engineering\" ,\n",
    "# 'DD': \"Department of Design\" ,\n",
    "'BT': \"Department Of Biosciences and Bioengineering\",\n",
    "'CL': \"Department Of Chemical Engineering\" ,\n",
    "'PH': \"Department Of Physics\" ,\n",
    "'CH': \"Department Of Chemical Sciences and Technology\" ,\n",
    "'MA': \"Department Of Mathematics and Computing\" ,\n",
    "'HS': \"Department Of Humanities and Social Sciences\" ,\n",
    "'RT' : \"Centre for Rural Technology\",\n",
    "'EN' : \"Center for Energy\",\n",
    "'LS' : \"Centre for Linguistic Science and Technology\"\n",
    "}\n",
    "\n",
    "with open(\"150101021_depts.sql\",\"w\") as f:\n",
    "    for d,dname in depts.items():\n",
    "        f.write(\"INSERT into Department (department_id,name) values ('\"+d+\"','\"+dname+\"');\\n\")\n",
    "\n",
    "# Slot entries\n",
    "final_slots=[]\n",
    "times=[]\n",
    "slots_all=pd.read_csv(\"csvs/slots.csv\",header=None)\n",
    "for i,r in slots_all.iterrows():\n",
    "    lr= list(r)\n",
    "    if(i<1):\n",
    "        times=lr[1:]\n",
    "    else:\n",
    "        day = lr[0]\n",
    "        for t,l in enumerate(lr[1:]):\n",
    "            if(type(l)==str): #ignore nan\n",
    "                final_slots.append([l,day]+times[t].split(\"-\"))\n",
    "len(final_slots)\n",
    "with open(\"150101021_slots.sql\",\"w\") as f:\n",
    "    for s in final_slots:\n",
    "        vals=\",\".join(map(lambda x:(\"'\"+str(x)+\"'\"),s));\n",
    "        f.write(\"INSERT into Slot (letter,day,start_time,end_time) values (\" + vals+\");\\n\")"
   ]
  },
  {
   "cell_type": "code",
   "execution_count": 10,
   "metadata": {
    "collapsed": false
   },
   "outputs": [
    {
     "name": "stdout",
     "output_type": "stream",
     "text": [
      "MultiRoom Courses- [('EE230', {'2002', '2201', '2202', '3101', '4101'}), ('EE221', {'2002', '2201', '2202', '3101', '4101'}), ('ME222', {'1003', '1005'}), ('CE646', {'4205', '4208', '4211'}), ('CE584', {'4205', '4211'}), ('ME223', {'1003', '1005'}), ('EE663', {'3101', '2002'}), ('EE652', {'2202', '4101'}), ('ME224', {'1003', '1005'}), ('CE307', {'3102', '4201'}), ('CE570', {'4205', '4208'}), ('CE615', {'4205', '4211'}), ('CE623', {'4208', '3102'}), ('PH412', {'4004', '4212'}), ('ME323', {'1003', '1005'}), ('ME324', {'1003', '1005'}), ('ME322', {'1003', '1005'}), ('ME321', {'1003', '1005'}), ('EE551', {'2202', '4101'}), ('ME221', {'1003', '1005'}), ('ME605', {'1G2', '1005'}), ('PH521', {'4004', '4212'}), ('PH531', {'4004', '4212'}), ('CE304', {'4211', '4201'}), ('PH544', {'4004', '4212'}), ('PH545', {'4004', '4212'}), ('ME325', {'1003', '1005'})]\n"
     ]
    }
   ],
   "source": [
    "#Process these 5 files -\n",
    "filenames= [\"Mon\",\"Tue\",\"Wed\",\"Thur\",\"Fri\"]\n",
    "slotof={}\n",
    "roomof={}\n",
    "slotdayof={}\n",
    "rooms_all = set()\n",
    "for filename in filenames:\n",
    "    csv = pd.read_csv(\"csvs/\"+filename+\".csv\")\n",
    "    \n",
    "    slots = list(csv.keys())[1:]\n",
    "    for slot in slots:\n",
    "        # For use in making entries -\n",
    "        slotday=filename+\"_\"+slot\n",
    "        for i,row in csv[['Room',slot]].dropna().iterrows():\n",
    "            #Verify slot I,L come here\n",
    "            c = row[1]\n",
    "            if( c in slotdayof ):\n",
    "                slotdayof[c].add(slotday);\n",
    "#                 if(slotday in slotdayof[c]):  \n",
    "#                     print(\"Duplicate entry, Must have multirooms\",slotday,c)\n",
    "            else:\n",
    "                slotdayof[c]=set([slotday])\n",
    "            \n",
    "            r = row[0]\n",
    "            rooms_all.add(r) # distinct rooms\n",
    "            if( c in roomof ):\n",
    "                roomof[c].add(r);\n",
    "            else:\n",
    "                roomof[c]=set([r])\n",
    "            # Just for listing the multislots\n",
    "#             if( c in slotof ):\n",
    "#                 slotof[c].add(slot);\n",
    "#             else:\n",
    "#                 slotof[c]=set([slot])\n",
    "            \n",
    "# print(\"MultiSlot Courses-\",[x for x in slotof.items() if(len(x[1]) != 1)])\n",
    "# print(\"SingleSlots in variableSlot Courses-\",[x for x in slotof.items() if(len(x[1]) == 1)])\n",
    "print(\"MultiRoom Courses-\",[x for x in roomof.items() if(len(x[1]) != 1)])"
   ]
  },
  {
   "cell_type": "code",
   "execution_count": 11,
   "metadata": {
    "collapsed": false
   },
   "outputs": [
    {
     "name": "stdout",
     "output_type": "stream",
     "text": [
      "Normal ScheduledIn entries:  525\n",
      "Total ScheduledIn entries:  1160\n"
     ]
    },
    {
     "data": {
      "text/plain": [
       "[['BT101', 'D', 'L2', 'I', 'Monday'],\n",
       " ['CL503', 'A', '4209', 'NA', 'Wednesday'],\n",
       " ['MA271', 'C', '1103', 'NA', 'Tuesday'],\n",
       " ['HS521', 'D', '1101', 'NA', 'Thursday'],\n",
       " ['EE648', 'D1', '2002', 'NA', 'Thursday'],\n",
       " ['HS502', 'H', '1101', 'NA', 'Thursday']]"
      ]
     },
     "execution_count": 11,
     "metadata": {},
     "output_type": "execute_result"
    }
   ],
   "source": [
    "# Course\tClassSlot\tClassroom\tdivision\tDay   Department\n",
    "final = []\n",
    "days={\"Mon\":\"Monday\", \"Tue\":\"Tuesday\", \"Wed\":\"Wednesday\", \"Thur\":\"Thursday\", \"Fri\":\"Friday\" }\n",
    "slotbased = pd.read_csv(\"csvs/Slotbased.csv\")\n",
    "\n",
    "#Exclude Tutorials,etc for Electives ==> For all except division ones\n",
    "# excl_exceptions={\n",
    "# \"Tue_E\": ['HS203', 'HS212', 'HS213', 'HS220', 'HS224', 'HS226', 'HS234', 'HS237', 'HS238', 'HS239', 'HS242', 'HS243'],\n",
    "# \"Mon_A\": ['HS406', 'HS409', 'HS413', 'HS414', 'HS415', 'HS420', 'HS421', 'HS422', 'HS424', 'HS425'],\n",
    "# \"Thu_C\": ['BT630', 'BT632', 'CE552', 'CE616', 'CH438', 'CL639', 'CS526', 'EE664', 'EE671', 'EN671', 'LS621', 'ME609', 'PH443']\n",
    "# \"Tue_E1\": ['EE657','CL625','PH446','CH419'],\n",
    "# }\n",
    "\n",
    "#Those other than division courses having tutorials-\n",
    "tut_additions={# *-1-*-* courses\n",
    "    \"Mon_A\":['CH411','CL204','MA625'],\n",
    "    \"Tue_E\":['CL401','MA642'],\n",
    "    \"Wed_D\":[\"BT208\",'CH433','MA547'],\n",
    "    \"Thu_C\":['CH432','MA590','MA591'],\n",
    "    \"Fri_B\":[\"CE222\",'CH421','MA662'],\n",
    "    \"Mon_A1\":['CH637','BT302','BT629','BT637'],\n",
    "    \"Tue_E1\":['CH640'],\n",
    "    \"Wed_D1\":['CH615'],\n",
    "    \"Thu_C1\":['CH617'],\n",
    "    \"Fri_B1\":['CH625'],\n",
    "}\n",
    "# Add +TUT exceptions here.\n",
    "\n",
    "\n",
    "# Normal, fixed slot courses-\n",
    "for i,csrd in slotbased.iterrows():\n",
    "    course = csrd[0]\n",
    "    slot = csrd[1]\n",
    "    rooms_all.add(csrd[2])\n",
    "    slot_days = [ f[1] for f in final_slots if f[0]==slot ] #only those days which have the slot\n",
    "    for day in slot_days:\n",
    "        checkstr = day[:3]+\"_\"+slot\n",
    "        division = csrd[3] if type(csrd[3])==str else \"NA\"\n",
    "        if (checkstr not in tut_additions): #Not a tut slot\n",
    "            final.append(list(csrd)[:3]+[division,day])\n",
    "        elif( division!= \"NA\" or (course in tut_additions[checkstr])):#Tut slot for division courses and tut_additions\n",
    "            final.append(list(csrd)[:3]+[division,day])            \n",
    "\n",
    "print(\"Normal ScheduledIn entries: \",len(final))\n",
    "\n",
    "# Variable slot courses- (some are fixed though)\n",
    "for csd in slotdayof.items():\n",
    "    for s in csd[1]:\n",
    "        for r in roomof[csd[0]]: #There are multiRoom courses as well.\n",
    "            sd = s.split(\"_\")\n",
    "            final.append([csd[0],sd[1],r,'NA',days[sd[0]]])\n",
    "\n",
    "print(\"Total ScheduledIn entries: \",len(final))\n",
    "with open(\"150101021_sched.sql\",\"w\") as f:\n",
    "    f.write(\"INSERT INTO ScheduledIn (course_id, course_division, slot_letter, slot_day, department_id, room_number)  VALUES \\n\")\n",
    "    flag = 1\n",
    "    for rel in final:\n",
    "        if(flag):\n",
    "            flag=0\n",
    "        else:\n",
    "            f.write(\",\")\n",
    "        c,l,r,dv,dy = rel\n",
    "        did = c[:2]\n",
    "        f.write(\"('\"+c+\"','\"+dv+\"','\"+l+\"','\"+dy+\"','\"+did+\"','\"+r+\"')\\n\")\n",
    "    f.write(\";\\n\")\n",
    "final[0:1230:200]"
   ]
  },
  {
   "cell_type": "code",
   "execution_count": 12,
   "metadata": {
    "collapsed": false
   },
   "outputs": [
    {
     "name": "stdout",
     "output_type": "stream",
     "text": [
      "Total rooms  55\n",
      "Weekfiles courses 165\n",
      "Duplicate! ['BT205', 'C', '4102', nan]\n",
      "Total courses 330\n"
     ]
    }
   ],
   "source": [
    "# Room entries - room_number, location\n",
    "print(\"Total rooms \",len(rooms_all))\n",
    "locations = ['Core-I', 'Core-II', 'Core-III', 'Core-IV', 'LH', 'Local']\n",
    "with open(\"150101021_rooms.sql\",\"w\") as f:\n",
    "    for r in rooms_all:\n",
    "        l = locations[int(r[0])-1] if r[0] in \"1234\" else ('LH' if r[0]=='L' else 'Local')\n",
    "        f.write(\"INSERT into Room (room_number,location) values ('\"+r+\"','\"+l+\"');\\n\")\n",
    "        \n",
    "#Course entries - course_id, division. Comes from slotdayof and slotbased (with division) \n",
    "courses = set()\n",
    "division=\"NA\"\n",
    "# filenames one -\n",
    "for c in slotdayof.items():    \n",
    "    courses.add( (c[0],division) )\n",
    "print(\"Weekfiles courses\",len(courses))\n",
    "          \n",
    "for i,csrd in slotbased.iterrows():\n",
    "    c = csrd[0]\n",
    "    d = csrd[3]\n",
    "    if(type(d) != str):\n",
    "        d = \"NA\"\n",
    "    if( (c,d) in courses):\n",
    "        print(\"Duplicate!\",list(csrd))\n",
    "    else:\n",
    "        courses.add((c,d))\n",
    "print(\"Total courses\",len(courses))\n",
    "with open(\"150101021_courses.sql\",\"w\") as f:\n",
    "    f.write(\"INSERT into Course (course_id,division) values \")\n",
    "    flag = 1\n",
    "    for c,d in courses:\n",
    "        if(flag):\n",
    "            flag=0\n",
    "        else:\n",
    "            f.write(\",\")\n",
    "        f.write(\"('\"+c+\"','\"+d+\"')\\n\")\n",
    "    f.write(\";\\n\")\n"
   ]
  },
  {
   "cell_type": "code",
   "execution_count": 17,
   "metadata": {
    "collapsed": false,
    "scrolled": true
   },
   "outputs": [
    {
     "name": "stdout",
     "output_type": "stream",
     "text": [
      "Dept present bugcheck [] == []\n",
      "CE552 bugcheck 3 == 3\n",
      "CE616 bugcheck 3 == 3\n",
      "EE657 bugcheck 3 == 3\n",
      "EE664 bugcheck 3 == 3\n",
      "EE671 bugcheck 3 == 3\n",
      "PH443 bugcheck 3 == 3\n",
      "PH446 bugcheck 3 == 3\n",
      "LS621 bugcheck 3 == 3\n",
      " xxxx bugcheck 6 == 6\n",
      "integritycheck [] == []\n",
      "BT306 bugcheck 3 == 3\n",
      "CH643 bugcheck 3 == 3\n",
      "CS501 bugcheck 3 == 3\n",
      "ME615 bugcheck 3 == 3\n"
     ]
    }
   ],
   "source": [
    "#checks for integrity \n",
    "#All courses link to a dept -\n",
    "print(\"Dept present bugcheck [] ==\",[f for f  in final if f[0][:2] not in depts])\n",
    "# \"Other than Tuesday\" cases - \n",
    "for c in ['CE552','CE616','EE657','EE664','EE671','PH443','PH446']:\n",
    "    print(c,\"bugcheck 3 ==\",len([f for f  in final if f[0]==c]))\n",
    "# Elective rooms - Not mentioned for LS621\n",
    "print(\"LS621 bugcheck 3 ==\",len([f for f  in final if f[2] == 'Elective_xxxx']))\n",
    "# CommonRoom xxxx\n",
    "print(\" xxxx bugcheck 6 ==\" , len([f for f  in final if f[2] == 'xxxx' or f[2] == 'CommonRoom']))\n",
    "# Letter-day foreign reference check\n",
    "slots = [ f[:2] for f in final_slots]\n",
    "print(\"integritycheck [] ==\",[ rel for rel in final if([rel[1],rel[4]] not in slots)])\n",
    "# No Tut by count for non-div non-exceptions\n",
    "for c in ['BT306','CH643','CS501','ME615']:\n",
    "    print(c,\"bugcheck 3 ==\",len([f for f  in final if f[0]==c]))"
   ]
  },
  {
   "cell_type": "code",
   "execution_count": null,
   "metadata": {
    "collapsed": true
   },
   "outputs": [],
   "source": []
  }
 ],
 "metadata": {
  "kernelspec": {
   "display_name": "Python 3",
   "language": "python",
   "name": "python3"
  },
  "language_info": {
   "codemirror_mode": {
    "name": "ipython",
    "version": 3
   },
   "file_extension": ".py",
   "mimetype": "text/x-python",
   "name": "python",
   "nbconvert_exporter": "python",
   "pygments_lexer": "ipython3",
   "version": "3.6.3"
  }
 },
 "nbformat": 4,
 "nbformat_minor": 2
}
